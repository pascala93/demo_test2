{
    "cells": [
        {
            "metadata": {},
            "cell_type": "code",
            "source": "print (1+1)",
            "execution_count": 1,
            "outputs": [
                {
                    "output_type": "stream",
                    "text": "2\n",
                    "name": "stdout"
                }
            ]
        },
        {
            "metadata": {},
            "cell_type": "markdown",
            "source": "### Description: This is a Hands-on Lab demo\nHope I am getting this right"
        },
        {
            "metadata": {},
            "cell_type": "code",
            "source": "\nimport os, types\nimport pandas as pd\nfrom botocore.client import Config\nimport ibm_boto3\n\ndef __iter__(self): return 0\n\n# @hidden_cell\n# The following code accesses a file in your IBM Cloud Object Storage. It includes your credentials.\n# You might want to remove those credentials before you share the notebook.\n\nif os.environ.get('RUNTIME_ENV_LOCATION_TYPE') == 'external':\n    endpoint_2cfc6c15e6b24d1e9347bdd0f3c037e4 = 'https://s3.eu.cloud-object-storage.appdomain.cloud'\nelse:\n    endpoint_2cfc6c15e6b24d1e9347bdd0f3c037e4 = 'https://s3.private.eu.cloud-object-storage.appdomain.cloud'\n\nclient_2cfc6c15e6b24d1e9347bdd0f3c037e4 = ibm_boto3.client(service_name='s3',\n    ibm_api_key_id='mZm1jL4dSTTCFvopWt-OH1VHs2HBjOL5seyJeMnF9-ns',\n    ibm_auth_endpoint=\"https://iam.cloud.ibm.com/oidc/token\",\n    config=Config(signature_version='oauth'),\n    endpoint_url=endpoint_2cfc6c15e6b24d1e9347bdd0f3c037e4)\n\nbody = client_2cfc6c15e6b24d1e9347bdd0f3c037e4.get_object(Bucket='handsonlab-donotdelete-pr-bw0dtf7ghyo63x',Key='rainfall.csv')['Body']\n# add missing __iter__ method, so pandas accepts body as file-like object\nif not hasattr(body, \"__iter__\"): body.__iter__ = types.MethodType( __iter__, body )\n\ndf_data_1 = pd.read_csv(body)\ndf_data_1.head()\n",
            "execution_count": 2,
            "outputs": [
                {
                    "output_type": "execute_result",
                    "execution_count": 2,
                    "data": {
                        "text/plain": "      num  altitude  sep  oct  nov  dec  jan  feb  mar  apr  may  \\\n0  110050        30  1.2   33   90  117  135  102   61   20  6.7   \n1  110351        35  2.3   34   86  121  144  106   62   23  4.5   \n2  110502        20  2.7   29   89  131  158  109   62   24  3.8   \n3  111001        10  2.9   32   91  137  152  113   61   21  4.8   \n4  111650        25  1.0   27   78  128  136  108   59   21  4.7   \n\n                name        x_utm        y_utm  \n0  Kfar Rosh Hanikra  696533.0929  3660837.106  \n1               Saar  697119.0761  3656748.194  \n2              Evron  696509.3390  3652434.139  \n3        Kfar Masrik  696541.6760  3641331.565  \n4      Kfar Hamakabi  697875.2885  3630156.099  ",
                        "text/html": "<div>\n<style scoped>\n    .dataframe tbody tr th:only-of-type {\n        vertical-align: middle;\n    }\n\n    .dataframe tbody tr th {\n        vertical-align: top;\n    }\n\n    .dataframe thead th {\n        text-align: right;\n    }\n</style>\n<table border=\"1\" class=\"dataframe\">\n  <thead>\n    <tr style=\"text-align: right;\">\n      <th></th>\n      <th>num</th>\n      <th>altitude</th>\n      <th>sep</th>\n      <th>oct</th>\n      <th>nov</th>\n      <th>dec</th>\n      <th>jan</th>\n      <th>feb</th>\n      <th>mar</th>\n      <th>apr</th>\n      <th>may</th>\n      <th>name</th>\n      <th>x_utm</th>\n      <th>y_utm</th>\n    </tr>\n  </thead>\n  <tbody>\n    <tr>\n      <th>0</th>\n      <td>110050</td>\n      <td>30</td>\n      <td>1.2</td>\n      <td>33</td>\n      <td>90</td>\n      <td>117</td>\n      <td>135</td>\n      <td>102</td>\n      <td>61</td>\n      <td>20</td>\n      <td>6.7</td>\n      <td>Kfar Rosh Hanikra</td>\n      <td>696533.0929</td>\n      <td>3660837.106</td>\n    </tr>\n    <tr>\n      <th>1</th>\n      <td>110351</td>\n      <td>35</td>\n      <td>2.3</td>\n      <td>34</td>\n      <td>86</td>\n      <td>121</td>\n      <td>144</td>\n      <td>106</td>\n      <td>62</td>\n      <td>23</td>\n      <td>4.5</td>\n      <td>Saar</td>\n      <td>697119.0761</td>\n      <td>3656748.194</td>\n    </tr>\n    <tr>\n      <th>2</th>\n      <td>110502</td>\n      <td>20</td>\n      <td>2.7</td>\n      <td>29</td>\n      <td>89</td>\n      <td>131</td>\n      <td>158</td>\n      <td>109</td>\n      <td>62</td>\n      <td>24</td>\n      <td>3.8</td>\n      <td>Evron</td>\n      <td>696509.3390</td>\n      <td>3652434.139</td>\n    </tr>\n    <tr>\n      <th>3</th>\n      <td>111001</td>\n      <td>10</td>\n      <td>2.9</td>\n      <td>32</td>\n      <td>91</td>\n      <td>137</td>\n      <td>152</td>\n      <td>113</td>\n      <td>61</td>\n      <td>21</td>\n      <td>4.8</td>\n      <td>Kfar Masrik</td>\n      <td>696541.6760</td>\n      <td>3641331.565</td>\n    </tr>\n    <tr>\n      <th>4</th>\n      <td>111650</td>\n      <td>25</td>\n      <td>1.0</td>\n      <td>27</td>\n      <td>78</td>\n      <td>128</td>\n      <td>136</td>\n      <td>108</td>\n      <td>59</td>\n      <td>21</td>\n      <td>4.7</td>\n      <td>Kfar Hamakabi</td>\n      <td>697875.2885</td>\n      <td>3630156.099</td>\n    </tr>\n  </tbody>\n</table>\n</div>"
                    },
                    "metadata": {}
                }
            ]
        },
        {
            "metadata": {},
            "cell_type": "code",
            "source": "",
            "execution_count": null,
            "outputs": []
        }
    ],
    "metadata": {
        "kernelspec": {
            "name": "python3",
            "display_name": "Python 3.7",
            "language": "python"
        },
        "language_info": {
            "name": "python",
            "version": "3.7.11",
            "mimetype": "text/x-python",
            "codemirror_mode": {
                "name": "ipython",
                "version": 3
            },
            "pygments_lexer": "ipython3",
            "nbconvert_exporter": "python",
            "file_extension": ".py"
        }
    },
    "nbformat": 4,
    "nbformat_minor": 1
}